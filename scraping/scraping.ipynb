{
 "cells": [
  {
   "cell_type": "code",
   "execution_count": 3,
   "id": "e1048b03-9150-486d-bf86-f38df58f6d76",
   "metadata": {},
   "outputs": [
    {
     "name": "stdout",
     "output_type": "stream",
     "text": [
      "numpy     : 1.26.4      \n",
      "pandas    : 2.1.4       \n",
      "seaborn   : 0.13.1      \n",
      "matplotlib: 3.9.2       \n"
     ]
    }
   ],
   "source": [
    "print_version = lambda m: print(\"{:10}: {:12}\".format(m.__name__, m.__version__))\n",
    "\n",
    "import kagglehub\n",
    "\n",
    "import numpy as np\n",
    "import pandas as pd\n",
    "import seaborn as sns\n",
    "\n",
    "import matplotlib\n",
    "import matplotlib.pyplot as plt\n",
    "plt.style.use('dark_background')\n",
    "\n",
    "from sklearn.model_selection import train_test_split\n",
    "from sklearn.preprocessing import StandardScaler, MinMaxScaler\n",
    "from sklearn.linear_model import LogisticRegression\n",
    "from sklearn.tree import DecisionTreeClassifier\n",
    "from sklearn.ensemble import GradientBoostingClassifier, RandomForestClassifier\n",
    "from sklearn.metrics import (\n",
    "    classification_report,\n",
    "    confusion_matrix,\n",
    "    roc_curve,\n",
    "    roc_auc_score,\n",
    "    auc,\n",
    "    accuracy_score,\n",
    "    f1_score,\n",
    "    precision_score,\n",
    "    recall_score,\n",
    ")\n",
    "\n",
    "from pathlib import Path\n",
    "\n",
    "\n",
    "print_version(np)\n",
    "print_version(pd)\n",
    "print_version(sns)\n",
    "print_version(matplotlib)"
   ]
  },
  {
   "cell_type": "code",
   "execution_count": 4,
   "id": "23e49ac2-ca3a-4bcf-bc0c-a1f026c47577",
   "metadata": {},
   "outputs": [],
   "source": [
    "# словарь с названиями признаков на русском для отображения\n",
    "\n",
    "features_dict = dict(\n",
    "    hoursweek='Занятий в неделю',\n",
    "    attendance_rate='Посещаемость',\n",
    "    previous_grades='Предыдущие оценки',\n",
    "    extracurricular_activities='Участие во внеклассных мероприятиях',\n",
    "    parent_education_level='Уровень образования родителей'\n",
    ")"
   ]
  },
  {
   "cell_type": "code",
   "execution_count": 5,
   "id": "5fa8b380-6c76-4813-a848-82403ffd774b",
   "metadata": {},
   "outputs": [
    {
     "name": "stdout",
     "output_type": "stream",
     "text": [
      "Downloading from https://www.kaggle.com/api/v1/datasets/download/souradippal/student-performance-prediction?dataset_version_number=1...\n"
     ]
    },
    {
     "name": "stderr",
     "output_type": "stream",
     "text": [
      "100%|██████████| 381k/381k [00:00<00:00, 942kB/s]"
     ]
    },
    {
     "name": "stdout",
     "output_type": "stream",
     "text": [
      "Extracting files...\n",
      "Path to dataset files: /home/jovyan/.cache/kagglehub/datasets/souradippal/student-performance-prediction/versions/1\n"
     ]
    },
    {
     "name": "stderr",
     "output_type": "stream",
     "text": [
      "\n"
     ]
    }
   ],
   "source": [
    "# загрузка данных с kagglehub\n",
    "path = kagglehub.dataset_download(\"souradippal/student-performance-prediction\")\n",
    "print(\"Path to dataset files:\", path)"
   ]
  },
  {
   "cell_type": "markdown",
   "id": "3d5fc3ae-98ce-493f-8a49-2c9f6cde4b4c",
   "metadata": {},
   "source": [
    "## Структура датасета\n",
    "\n",
    "* `Student ID`: Идентификатор студента\n",
    "* `Study Hours per Week`: Занятий в неделю (Час)\n",
    "* `Attendance Rate`: Посещаемость (Нет/Есть)\n",
    "* `Previous Grades`: Предыдущие оценки (Нет/Есть)\n",
    "* `Participation in Extracurricular Activities`: Участие во внеклассных мероприятиях (Да/Нет)\n",
    "* `Parent Education Level`: Уровень образования родителей\n",
    "* `Passed`: Целевая переменная (0 - нет, 1 - есть)"
   ]
  },
  {
   "cell_type": "code",
   "execution_count": 6,
   "id": "e1461da3-0d26-4f1d-8775-0eceefacfe2e",
   "metadata": {},
   "outputs": [
    {
     "name": "stdout",
     "output_type": "stream",
     "text": [
      "(40000, 7)\n"
     ]
    },
    {
     "data": {
      "text/html": [
       "<div>\n",
       "<style scoped>\n",
       "    .dataframe tbody tr th:only-of-type {\n",
       "        vertical-align: middle;\n",
       "    }\n",
       "\n",
       "    .dataframe tbody tr th {\n",
       "        vertical-align: top;\n",
       "    }\n",
       "\n",
       "    .dataframe thead th {\n",
       "        text-align: right;\n",
       "    }\n",
       "</style>\n",
       "<table border=\"1\" class=\"dataframe\">\n",
       "  <thead>\n",
       "    <tr style=\"text-align: right;\">\n",
       "      <th></th>\n",
       "      <th>Student ID</th>\n",
       "      <th>Study Hours per Week</th>\n",
       "      <th>Attendance Rate</th>\n",
       "      <th>Previous Grades</th>\n",
       "      <th>Participation in Extracurricular Activities</th>\n",
       "      <th>Parent Education Level</th>\n",
       "      <th>Passed</th>\n",
       "    </tr>\n",
       "  </thead>\n",
       "  <tbody>\n",
       "    <tr>\n",
       "      <th>0</th>\n",
       "      <td>S00001</td>\n",
       "      <td>12.5</td>\n",
       "      <td>NaN</td>\n",
       "      <td>75.0</td>\n",
       "      <td>Yes</td>\n",
       "      <td>Master</td>\n",
       "      <td>Yes</td>\n",
       "    </tr>\n",
       "    <tr>\n",
       "      <th>1</th>\n",
       "      <td>S00002</td>\n",
       "      <td>9.3</td>\n",
       "      <td>95.3</td>\n",
       "      <td>60.6</td>\n",
       "      <td>No</td>\n",
       "      <td>High School</td>\n",
       "      <td>No</td>\n",
       "    </tr>\n",
       "    <tr>\n",
       "      <th>2</th>\n",
       "      <td>S00003</td>\n",
       "      <td>13.2</td>\n",
       "      <td>NaN</td>\n",
       "      <td>64.0</td>\n",
       "      <td>No</td>\n",
       "      <td>Associate</td>\n",
       "      <td>No</td>\n",
       "    </tr>\n",
       "    <tr>\n",
       "      <th>3</th>\n",
       "      <td>S00004</td>\n",
       "      <td>17.6</td>\n",
       "      <td>76.8</td>\n",
       "      <td>62.4</td>\n",
       "      <td>Yes</td>\n",
       "      <td>Bachelor</td>\n",
       "      <td>No</td>\n",
       "    </tr>\n",
       "    <tr>\n",
       "      <th>4</th>\n",
       "      <td>S00005</td>\n",
       "      <td>8.8</td>\n",
       "      <td>89.3</td>\n",
       "      <td>72.7</td>\n",
       "      <td>No</td>\n",
       "      <td>Master</td>\n",
       "      <td>No</td>\n",
       "    </tr>\n",
       "  </tbody>\n",
       "</table>\n",
       "</div>"
      ],
      "text/plain": [
       "  Student ID  Study Hours per Week  Attendance Rate  Previous Grades  \\\n",
       "0     S00001                  12.5              NaN             75.0   \n",
       "1     S00002                   9.3             95.3             60.6   \n",
       "2     S00003                  13.2              NaN             64.0   \n",
       "3     S00004                  17.6             76.8             62.4   \n",
       "4     S00005                   8.8             89.3             72.7   \n",
       "\n",
       "  Participation in Extracurricular Activities Parent Education Level Passed  \n",
       "0                                         Yes                 Master    Yes  \n",
       "1                                          No            High School     No  \n",
       "2                                          No              Associate     No  \n",
       "3                                         Yes               Bachelor     No  \n",
       "4                                          No                 Master     No  "
      ]
     },
     "execution_count": 6,
     "metadata": {},
     "output_type": "execute_result"
    }
   ],
   "source": [
    "# загрузка файлаы\n",
    "df = pd.read_csv(path + '/student_performance_prediction.csv'                )\n",
    "\n",
    "print(df.shape)\n",
    "df.head()"
   ]
  },
  {
   "cell_type": "code",
   "execution_count": 7,
   "id": "ab1a27ab-3f7c-4f69-92b5-051422eb7355",
   "metadata": {},
   "outputs": [],
   "source": [
    "from ydata_profiling import ProfileReport\n",
    "\n",
    "profile = ProfileReport(df, title=\"Profiling Report\")\n",
    "profile.to_file(\"report.html\")\n",
    "#profile.to_notebook_iframe()"
   ]
  },
  {
   "cell_type": "markdown",
   "id": "27793e52-8a70-46cc-babf-a95aa9ac322f",
   "metadata": {},
   "source": [
    "## Предобработка датасета"
   ]
  },
  {
   "cell_type": "code",
   "execution_count": 8,
   "id": "013555f3-1291-499a-9ca3-c3c973d9cde7",
   "metadata": {},
   "outputs": [],
   "source": [
    "# установка своих заголовков\n",
    "df.columns = [\"studentid\", \"hoursweek\", \"attendance_rate\", \"previous_grades\", \"extracurricular_activities\", \"parent_education_level\", \"passed\"]"
   ]
  },
  {
   "cell_type": "code",
   "execution_count": 9,
   "id": "7456b7d5-856e-4ae3-a6dc-5e150731670c",
   "metadata": {},
   "outputs": [
    {
     "data": {
      "text/html": [
       "<div>\n",
       "<style scoped>\n",
       "    .dataframe tbody tr th:only-of-type {\n",
       "        vertical-align: middle;\n",
       "    }\n",
       "\n",
       "    .dataframe tbody tr th {\n",
       "        vertical-align: top;\n",
       "    }\n",
       "\n",
       "    .dataframe thead th {\n",
       "        text-align: right;\n",
       "    }\n",
       "</style>\n",
       "<table border=\"1\" class=\"dataframe\">\n",
       "  <thead>\n",
       "    <tr style=\"text-align: right;\">\n",
       "      <th></th>\n",
       "      <th>studentid</th>\n",
       "      <th>hoursweek</th>\n",
       "      <th>attendance_rate</th>\n",
       "      <th>previous_grades</th>\n",
       "      <th>extracurricular_activities</th>\n",
       "      <th>parent_education_level</th>\n",
       "      <th>passed</th>\n",
       "    </tr>\n",
       "  </thead>\n",
       "  <tbody>\n",
       "    <tr>\n",
       "      <th>count</th>\n",
       "      <td>40000</td>\n",
       "      <td>38005.000000</td>\n",
       "      <td>38008.000000</td>\n",
       "      <td>38006.000000</td>\n",
       "      <td>38000</td>\n",
       "      <td>38000</td>\n",
       "      <td>38000</td>\n",
       "    </tr>\n",
       "    <tr>\n",
       "      <th>unique</th>\n",
       "      <td>40000</td>\n",
       "      <td>NaN</td>\n",
       "      <td>NaN</td>\n",
       "      <td>NaN</td>\n",
       "      <td>2</td>\n",
       "      <td>5</td>\n",
       "      <td>2</td>\n",
       "    </tr>\n",
       "    <tr>\n",
       "      <th>top</th>\n",
       "      <td>S00001</td>\n",
       "      <td>NaN</td>\n",
       "      <td>NaN</td>\n",
       "      <td>NaN</td>\n",
       "      <td>No</td>\n",
       "      <td>Bachelor</td>\n",
       "      <td>Yes</td>\n",
       "    </tr>\n",
       "    <tr>\n",
       "      <th>freq</th>\n",
       "      <td>1</td>\n",
       "      <td>NaN</td>\n",
       "      <td>NaN</td>\n",
       "      <td>NaN</td>\n",
       "      <td>19028</td>\n",
       "      <td>7685</td>\n",
       "      <td>19011</td>\n",
       "    </tr>\n",
       "    <tr>\n",
       "      <th>mean</th>\n",
       "      <td>NaN</td>\n",
       "      <td>9.962744</td>\n",
       "      <td>75.276323</td>\n",
       "      <td>65.440107</td>\n",
       "      <td>NaN</td>\n",
       "      <td>NaN</td>\n",
       "      <td>NaN</td>\n",
       "    </tr>\n",
       "    <tr>\n",
       "      <th>std</th>\n",
       "      <td>NaN</td>\n",
       "      <td>5.031154</td>\n",
       "      <td>20.393418</td>\n",
       "      <td>16.503119</td>\n",
       "      <td>NaN</td>\n",
       "      <td>NaN</td>\n",
       "      <td>NaN</td>\n",
       "    </tr>\n",
       "    <tr>\n",
       "      <th>min</th>\n",
       "      <td>NaN</td>\n",
       "      <td>-12.300000</td>\n",
       "      <td>-14.300000</td>\n",
       "      <td>8.300000</td>\n",
       "      <td>NaN</td>\n",
       "      <td>NaN</td>\n",
       "      <td>NaN</td>\n",
       "    </tr>\n",
       "    <tr>\n",
       "      <th>25%</th>\n",
       "      <td>NaN</td>\n",
       "      <td>6.600000</td>\n",
       "      <td>61.600000</td>\n",
       "      <td>55.100000</td>\n",
       "      <td>NaN</td>\n",
       "      <td>NaN</td>\n",
       "      <td>NaN</td>\n",
       "    </tr>\n",
       "    <tr>\n",
       "      <th>50%</th>\n",
       "      <td>NaN</td>\n",
       "      <td>10.000000</td>\n",
       "      <td>75.300000</td>\n",
       "      <td>65.200000</td>\n",
       "      <td>NaN</td>\n",
       "      <td>NaN</td>\n",
       "      <td>NaN</td>\n",
       "    </tr>\n",
       "    <tr>\n",
       "      <th>75%</th>\n",
       "      <td>NaN</td>\n",
       "      <td>13.400000</td>\n",
       "      <td>88.800000</td>\n",
       "      <td>75.200000</td>\n",
       "      <td>NaN</td>\n",
       "      <td>NaN</td>\n",
       "      <td>NaN</td>\n",
       "    </tr>\n",
       "    <tr>\n",
       "      <th>max</th>\n",
       "      <td>NaN</td>\n",
       "      <td>32.400000</td>\n",
       "      <td>150.200000</td>\n",
       "      <td>200.000000</td>\n",
       "      <td>NaN</td>\n",
       "      <td>NaN</td>\n",
       "      <td>NaN</td>\n",
       "    </tr>\n",
       "  </tbody>\n",
       "</table>\n",
       "</div>"
      ],
      "text/plain": [
       "       studentid     hoursweek  attendance_rate  previous_grades  \\\n",
       "count      40000  38005.000000     38008.000000     38006.000000   \n",
       "unique     40000           NaN              NaN              NaN   \n",
       "top       S00001           NaN              NaN              NaN   \n",
       "freq           1           NaN              NaN              NaN   \n",
       "mean         NaN      9.962744        75.276323        65.440107   \n",
       "std          NaN      5.031154        20.393418        16.503119   \n",
       "min          NaN    -12.300000       -14.300000         8.300000   \n",
       "25%          NaN      6.600000        61.600000        55.100000   \n",
       "50%          NaN     10.000000        75.300000        65.200000   \n",
       "75%          NaN     13.400000        88.800000        75.200000   \n",
       "max          NaN     32.400000       150.200000       200.000000   \n",
       "\n",
       "       extracurricular_activities parent_education_level passed  \n",
       "count                       38000                  38000  38000  \n",
       "unique                          2                      5      2  \n",
       "top                            No               Bachelor    Yes  \n",
       "freq                        19028                   7685  19011  \n",
       "mean                          NaN                    NaN    NaN  \n",
       "std                           NaN                    NaN    NaN  \n",
       "min                           NaN                    NaN    NaN  \n",
       "25%                           NaN                    NaN    NaN  \n",
       "50%                           NaN                    NaN    NaN  \n",
       "75%                           NaN                    NaN    NaN  \n",
       "max                           NaN                    NaN    NaN  "
      ]
     },
     "execution_count": 9,
     "metadata": {},
     "output_type": "execute_result"
    }
   ],
   "source": [
    "df.describe(include='all')"
   ]
  },
  {
   "cell_type": "code",
   "execution_count": 10,
   "id": "2aa2df9b-025a-4527-80e2-2eb1b73f2070",
   "metadata": {},
   "outputs": [
    {
     "data": {
      "text/plain": [
       "studentid                        0\n",
       "hoursweek                     1995\n",
       "attendance_rate               1992\n",
       "previous_grades               1994\n",
       "extracurricular_activities    2000\n",
       "parent_education_level        2000\n",
       "passed                        2000\n",
       "dtype: int64"
      ]
     },
     "execution_count": 10,
     "metadata": {},
     "output_type": "execute_result"
    }
   ],
   "source": [
    "# пропуски\n",
    "df.isna().sum()"
   ]
  },
  {
   "cell_type": "code",
   "execution_count": 11,
   "id": "52d86a40-e40a-4c1e-a0b0-435c6ddb5697",
   "metadata": {},
   "outputs": [
    {
     "data": {
      "text/plain": [
       "0"
      ]
     },
     "execution_count": 11,
     "metadata": {},
     "output_type": "execute_result"
    }
   ],
   "source": [
    "# дубликаты\n",
    "df.duplicated().sum()"
   ]
  },
  {
   "cell_type": "code",
   "execution_count": 12,
   "id": "635b5a0b-5e44-4286-add3-d1b3d60350e9",
   "metadata": {},
   "outputs": [
    {
     "data": {
      "text/plain": [
       "hoursweek           25.312508\n",
       "attendance_rate    415.891489\n",
       "previous_grades    272.352934\n",
       "dtype: float64"
      ]
     },
     "execution_count": 12,
     "metadata": {},
     "output_type": "execute_result"
    }
   ],
   "source": [
    "# дисперсия\n",
    "df[['hoursweek','attendance_rate','previous_grades']].var()"
   ]
  },
  {
   "cell_type": "markdown",
   "id": "da6dd394-bbf0-49b8-a130-c6ca58dd501f",
   "metadata": {},
   "source": [
    "## Преобразование данных"
   ]
  },
  {
   "cell_type": "code",
   "execution_count": 13,
   "id": "e678e89f-d4bd-4f23-8382-4293f100d761",
   "metadata": {},
   "outputs": [
    {
     "name": "stdout",
     "output_type": "stream",
     "text": [
      "(40000, 7)\n",
      "(40000, 6)\n"
     ]
    }
   ],
   "source": [
    "# Удаляем studentid\n",
    "df_drop = df.drop(['studentid'], axis=1).copy()\n",
    "print(df.shape)\n",
    "print(df_drop.shape)"
   ]
  },
  {
   "cell_type": "code",
   "execution_count": 14,
   "id": "f9c37abd-b407-4498-8b53-21f4d45e0c3a",
   "metadata": {},
   "outputs": [
    {
     "name": "stdout",
     "output_type": "stream",
     "text": [
      "(40000, 6)\n",
      "(29446, 6)\n"
     ]
    }
   ],
   "source": [
    "# Удаляем неполные данные\n",
    "df_dropna = df_drop.dropna().copy()\n",
    "print(df_drop.shape)\n",
    "print(df_dropna.shape)"
   ]
  },
  {
   "cell_type": "code",
   "execution_count": 15,
   "id": "5259dc38-cfac-486a-8933-3e4aa6321d9a",
   "metadata": {},
   "outputs": [
    {
     "data": {
      "text/plain": [
       "parent_education_level\n",
       "Bachelor       5948\n",
       "Associate      5928\n",
       "Doctorate      5914\n",
       "High School    5907\n",
       "Master         5749\n",
       "Name: count, dtype: int64"
      ]
     },
     "execution_count": 15,
     "metadata": {},
     "output_type": "execute_result"
    }
   ],
   "source": [
    "# распределение по образованию родителей\n",
    "df_dropna.parent_education_level.value_counts()"
   ]
  },
  {
   "cell_type": "code",
   "execution_count": 16,
   "id": "725aa97c-315c-4f80-aadc-cf77051b9bca",
   "metadata": {},
   "outputs": [
    {
     "data": {
      "text/plain": [
       "{'Associate': 0, 'Bachelor': 1, 'Doctorate': 2, 'High School': 3, 'Master': 4}"
      ]
     },
     "execution_count": 16,
     "metadata": {},
     "output_type": "execute_result"
    }
   ],
   "source": [
    "# создание словаря\n",
    "parent_education_level_index_to_label = dict(enumerate(np.unique(df_dropna.parent_education_level)))\n",
    "parent_education_level_label_to_index = {label: index for index, label in parent_education_level_index_to_label.items()}\n",
    "\n",
    "df_dropna.parent_education_level = df_dropna.parent_education_level.map(parent_education_level_label_to_index)\n",
    "\n",
    "parent_education_level_label_to_index"
   ]
  },
  {
   "cell_type": "code",
   "execution_count": 17,
   "id": "c44f597c-c306-4b66-9abb-b25dc99066e4",
   "metadata": {},
   "outputs": [],
   "source": [
    "# Заменяем в столбце passed значения : Yes - 1, No - 0\n",
    "df_dropna['passed'] = df_dropna['passed'].replace('Yes', 1)\n",
    "df_dropna['passed'] = df_dropna['passed'].replace('No', 0)"
   ]
  },
  {
   "cell_type": "code",
   "execution_count": 18,
   "id": "fc34deff-9b1a-4a7d-bc70-e5ed9a3d0181",
   "metadata": {},
   "outputs": [],
   "source": [
    "# Заменяем в столбце extracurricular_activities значения : Yes - 1, No - 0\n",
    "df_dropna['extracurricular_activities'] = df_dropna['extracurricular_activities'].replace('Yes', 1)\n",
    "df_dropna['extracurricular_activities'] = df_dropna['extracurricular_activities'].replace('No', 0)"
   ]
  },
  {
   "cell_type": "code",
   "execution_count": 19,
   "id": "48cf1c73-3ff5-42c0-8aaa-5f8f88595063",
   "metadata": {},
   "outputs": [
    {
     "data": {
      "image/png": "[encoded data removed]",
      "text/plain": [
       "<Figure size 1000x800 with 6 Axes>"
      ]
     },
     "metadata": {},
     "output_type": "display_data"
    }
   ],
   "source": [
    "df_dropna[['hoursweek','attendance_rate','previous_grades','extracurricular_activities','parent_education_level']].hist(figsize=(10, 8));"
   ]
  },
  {
   "cell_type": "code",
   "execution_count": 20,
   "id": "25a38d8a-9f32-42d6-bb37-13f2f21d4af8",
   "metadata": {},
   "outputs": [
    {
     "data": {
      "image/png": "[encoded data removed]",
      "text/plain": [
       "<Figure size 1500x700 with 2 Axes>"
      ]
     },
     "metadata": {},
     "output_type": "display_data"
    }
   ],
   "source": [
    "# создание матрицы корреляции\n",
    "corr_matrix = df_dropna[['hoursweek','attendance_rate','previous_grades','parent_education_level']].corr()\n",
    "\n",
    "# отрисовка матрицы\n",
    "plt.figure(figsize=(15, 7))\n",
    "sns.heatmap(data=corr_matrix, annot=True)\n",
    "plt.show()"
   ]
  },
  {
   "cell_type": "code",
   "execution_count": 21,
   "id": "29737370-694f-4e7d-912a-4485e41b7ec6",
   "metadata": {},
   "outputs": [],
   "source": [
    "# разделение датасета на 2 части - те кто завершили обучение, и кто нет\n",
    "df_0 = df_dropna[df_dropna.passed == 1]\n",
    "df_1 = df_dropna[df_dropna.passed == 0]"
   ]
  },
  {
   "cell_type": "code",
   "execution_count": null,
   "id": "c6e0d091-dd46-47eb-96ba-b9e0771ebc4f",
   "metadata": {},
   "outputs": [],
   "source": [
    "# визуализация зависимости оценок от посещаемости с указанием успеха окончания обучения.\n",
    "plt.scatter(df_0.attendance_rate, df_0.previous_grades, color=\"green\", label=\"Закончили\", alpha=0.4)\n",
    "plt.scatter(df_1.attendance_rate, df_1.previous_grades, color=\"red\", label=\"Не закончили\", alpha=0.4)\n",
    "plt.xlabel(features_dict[\"attendance_rate\"])\n",
    "plt.ylabel(features_dict[\"previous_grades\"])\n",
    "plt.legend(loc='lower right')\n",
    "plt.show()"
   ]
  },
  {
   "cell_type": "markdown",
   "id": "4a10c3fe-e30c-48c5-9da4-42e5a50097e1",
   "metadata": {},
   "source": [
    "На графике хорошо видны выбросы по previous_grades = 200 и attendance_rate = 150. Что скорее всего ошибки."
   ]
  },
  {
   "cell_type": "code",
   "execution_count": null,
   "id": "0a8febbe-a582-4edc-95f8-2699716b5c09",
   "metadata": {},
   "outputs": [],
   "source": [
    "# заменяем выбросы на NaN\n",
    "df_replace = df_dropna.copy()\n",
    "df_replace[\"previous_grades\"] = df_replace[\"previous_grades\"].replace(200, np.NaN)\n",
    "df_replace[\"attendance_rate\"] = df_replace[\"attendance_rate\"].replace(150, np.NaN)\n",
    "\n",
    "# заполняем NaN медианой\n",
    "df_fillna = df_replace.copy()\n",
    "df_fillna[\"previous_grades\"] = df_fillna[\"previous_grades\"].fillna(df_replace[\"previous_grades\"].mean())\n",
    "df_fillna[\"attendance_rate\"] = df_fillna[\"attendance_rate\"].fillna(df_replace[\"attendance_rate\"].mean())"
   ]
  },
  {
   "cell_type": "code",
   "execution_count": null,
   "id": "67e46c54-e552-4e32-bf45-c886d6adb0d8",
   "metadata": {},
   "outputs": [],
   "source": [
    "(df_dropna.previous_grades == 200).sum()"
   ]
  },
  {
   "cell_type": "code",
   "execution_count": null,
   "id": "f909baec-c4f1-4189-9488-1af2127cd0c5",
   "metadata": {},
   "outputs": [],
   "source": [
    "(df_dropna.attendance_rate == 150).sum()"
   ]
  },
  {
   "cell_type": "markdown",
   "id": "d4a0515e-fcb6-4177-8743-de461dc94c4b",
   "metadata": {},
   "source": [
    "## Формирование X и Y"
   ]
  },
  {
   "cell_type": "code",
   "execution_count": null,
   "id": "56d79068-9d97-4df0-9a7a-55160e63c844",
   "metadata": {},
   "outputs": [],
   "source": [
    "# предсказываем 0 или 1 - Закончит обучение или нет, X - все остальные признаки (задача классификации)\n",
    "X = df_dropna.drop(columns='passed').values\n",
    "y = df_dropna[['passed']].values\n",
    "\n",
    "X.shape, y.shape"
   ]
  },
  {
   "cell_type": "code",
   "execution_count": null,
   "id": "ff2de268-2718-4c1f-806f-92b29ffcf75d",
   "metadata": {},
   "outputs": [],
   "source": [
    "# распределение целевой переменной\n",
    "plt.hist(y);"
   ]
  },
  {
   "cell_type": "code",
   "execution_count": null,
   "id": "26e860de-e6f0-49b9-97c1-4ef9eee9b05e",
   "metadata": {},
   "outputs": [],
   "source": [
    "# разбиение на выборки для обучения и для тестирования модели\n",
    "X_train, X_test, y_train, y_test = train_test_split(X, y, test_size=0.2, random_state=111)\n",
    "\n",
    "X_train.shape, X_test.shape, y_train.shape, y_test.shape"
   ]
  },
  {
   "cell_type": "code",
   "execution_count": null,
   "id": "096dfe26-e753-4615-8aac-8c9351a8d26a",
   "metadata": {},
   "outputs": [],
   "source": [
    "# посмотреть рапределение целевой переменной для y_train и y_test\n",
    "plt.figure(figsize=(10, 4))\n",
    "plt.subplot(1, 2, 1)\n",
    "plt.title('Train')\n",
    "plt.hist(y_train)\n",
    "plt.subplot(1, 2, 2)\n",
    "plt.title('Test')\n",
    "plt.hist(y_test)\n",
    "plt.show()"
   ]
  },
  {
   "cell_type": "markdown",
   "id": "e6fd4fa0-ae84-48d9-8bcc-ecc6a753b347",
   "metadata": {},
   "source": [
    "## Обучение модели"
   ]
  },
  {
   "cell_type": "code",
   "execution_count": null,
   "id": "c696c5de-0094-4d5a-8a63-2eaa5e935206",
   "metadata": {},
   "outputs": [],
   "source": [
    "# инициализация модели для решения задачи классификации\n",
    "model = DecisionTreeClassifier(random_state=111)\n",
    "\n",
    "# обучение модели\n",
    "model.fit(X_train, y_train)\n",
    "\n",
    "# метрика качества на тестовых данных accuracy (для проверки как хорошо обучилась модель)\n",
    "# алгоритмы классификации выдают метрику accuracy, алгоритмы регресии - R2 score\n",
    "accuracy = model.score(X_test, y_test)\n",
    "accuracy"
   ]
  },
  {
   "cell_type": "markdown",
   "id": "fa12ba4d-ad59-4fdc-b8e8-aaa326b03264",
   "metadata": {},
   "source": [
    "## Сериализация модели"
   ]
  },
  {
   "cell_type": "code",
   "execution_count": null,
   "id": "b2d2a232-b3fc-42db-aa7d-75bc49127237",
   "metadata": {},
   "outputs": [],
   "source": [
    "import pickle\n",
    "\n",
    "# сохранить на диск в формате pickle\n",
    "with open('model.pkl', 'wb') as f:\n",
    "    pickle.dump(model, f)"
   ]
  },
  {
   "cell_type": "markdown",
   "id": "5a4d232e-876e-49ce-8cb0-9d2bf9f95d99",
   "metadata": {},
   "source": [
    "## Инференс модели"
   ]
  },
  {
   "cell_type": "code",
   "execution_count": null,
   "id": "5a6c14c6-dc44-4f19-8003-92c5d9a6fd00",
   "metadata": {},
   "outputs": [],
   "source": [
    "# так происходит загрузка сохраненной модели\n",
    "with open('model.pkl', 'rb') as f:\n",
    "    model = pickle.load(f)"
   ]
  },
  {
   "cell_type": "code",
   "execution_count": null,
   "id": "4d569ff6-d2ab-4cf4-aa6a-6cc1c159e0b9",
   "metadata": {},
   "outputs": [],
   "source": [
    "# рандомные параметры для предсказания, данные которые пришли на вход\n",
    "data = dict(\n",
    "    hoursweek=11.3,\n",
    "    attendance_rate=65.6,\n",
    "    previous_grades=38.1,\n",
    "    extracurricular_activities=0,\n",
    "    parent_education_level=1\n",
    ")\n",
    "# создать датафрейм для отображения в приложении\n",
    "data_df = pd.DataFrame([data])\n",
    "data_df"
   ]
  },
  {
   "cell_type": "code",
   "execution_count": null,
   "id": "49ed0458-1648-4d42-a127-81d3510b82c5",
   "metadata": {},
   "outputs": [],
   "source": [
    "predict_proba = model.predict_proba(data_df.values)[0, 1]\n",
    "predict_proba"
   ]
  },
  {
   "cell_type": "code",
   "execution_count": null,
   "id": "7044df64-5c58-4fe0-8d68-b5c6034cdc85",
   "metadata": {},
   "outputs": [],
   "source": []
  }
 ],
 "metadata": {
  "kernelspec": {
   "display_name": "Python 3 (ipykernel)",
   "language": "python",
   "name": "python3"
  },
  "language_info": {
   "codemirror_mode": {
    "name": "ipython",
    "version": 3
   },
   "file_extension": ".py",
   "mimetype": "text/x-python",
   "name": "python",
   "nbconvert_exporter": "python",
   "pygments_lexer": "ipython3",
   "version": "3.12.7"
  }
 },
 "nbformat": 4,
 "nbformat_minor": 5
}
